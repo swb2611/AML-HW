{
 "cells": [
  {
   "cell_type": "code",
   "execution_count": 55,
   "metadata": {},
   "outputs": [
    {
     "name": "stdout",
     "output_type": "stream",
     "text": [
      "Using matplotlib backend: MacOSX\n",
      "Populating the interactive namespace from numpy and matplotlib\n"
     ]
    }
   ],
   "source": [
    "%pylab\n",
    "%matplotlib inline\n",
    "%config InlineBackend.figure_format = 'svg'\n"
   ]
  },
  {
   "cell_type": "code",
   "execution_count": 56,
   "metadata": {},
   "outputs": [],
   "source": [
    "from sklearn import linear_model\n",
    "from matplotlib import pyplot as plt\n",
    "import csv\n",
    "import numpy as np"
   ]
  },
  {
   "cell_type": "code",
   "execution_count": 98,
   "metadata": {},
   "outputs": [
    {
     "name": "stdout",
     "output_type": "stream",
     "text": [
      "(891, 11)\n"
     ]
    }
   ],
   "source": [
    "with open('train_titanic.csv', 'r') as fr:\n",
    "    freader = csv.reader(fr)\n",
    "    cnt = 0\n",
    "    labels = []\n",
    "    features = []\n",
    "    for eachLine in freader:\n",
    "        cnt += 1\n",
    "        if (cnt > 1):\n",
    "            feature = np.zeros(shape=(11, ))\n",
    "            feature[int(eachLine[2])-1] = 1\n",
    "            feature[3] = int(eachLine[4] == 'male')\n",
    "            try:\n",
    "                feature[4] = float(eachLine[5])\n",
    "            except:\n",
    "                feature[4] = 30\n",
    "            feature[5] = int(eachLine[6])\n",
    "            feature[6] = int(eachLine[7])\n",
    "            feature[7] = float(eachLine[9])\n",
    "            offset = 0\n",
    "            if (eachLine[11] == 'S'):\n",
    "                offset = 0\n",
    "            elif (eachLine[11] == 'C'):\n",
    "                offset = 1\n",
    "            else:\n",
    "                offset = 2\n",
    "            feature[8+offset] = 1\n",
    "            features.append(feature)\n",
    "            labels.append(int(eachLine[1]))\n",
    "\n",
    "    features = np.array(features, dtype = float)\n",
    "    labels = np.array(labels, dtype = int).reshape(-1, )\n",
    "    print(features.shape)\n",
    "            \n",
    "        "
   ]
  },
  {
   "cell_type": "code",
   "execution_count": 100,
   "metadata": {},
   "outputs": [
    {
     "name": "stdout",
     "output_type": "stream",
     "text": [
      "891\n"
     ]
    },
    {
     "data": {
      "text/plain": [
       "LogisticRegression(C=1.0, class_weight=None, dual=False, fit_intercept=True,\n",
       "          intercept_scaling=1, max_iter=100, multi_class='warn',\n",
       "          n_jobs=None, penalty='l2', random_state=None, solver='warn',\n",
       "          tol=0.0001, verbose=0, warm_start=False)"
      ]
     },
     "execution_count": 100,
     "metadata": {},
     "output_type": "execute_result"
    }
   ],
   "source": [
    "ind = np.random.choice(891, 446, replace=False)\n",
    "\n",
    "train_half_X = features[ind]\n",
    "train_half_Y = labels[ind]\n",
    "\n",
    "\n",
    "ind_ = []\n",
    "mask = [0 for i in range(891)]\n",
    "print(len(mask))\n",
    "for i in ind:\n",
    "    mask[i] = 1\n",
    "for i in range(891):\n",
    "    if (mask[i] == 0):\n",
    "        ind_.append(i)\n",
    "val_half_X = features[ind_]\n",
    "val_half_Y = labels[ind_]\n",
    "        \n",
    "lr.fit(train_half_X, train_half_Y)"
   ]
  },
  {
   "cell_type": "code",
   "execution_count": 102,
   "metadata": {},
   "outputs": [
    {
     "name": "stdout",
     "output_type": "stream",
     "text": [
      "(445,)\n",
      "accuracy on valition = 0.796\n"
     ]
    }
   ],
   "source": [
    "preds = lr.predict(val_half_X)\n",
    "print(preds.shape)\n",
    "\n",
    "\n",
    "print('accuracy on valition = %.3f'%(np.sum(preds == val_half_Y) * 1.0/preds.shape[0]))\n",
    "#acc = 0\n",
    "#for i in range(preds.shape[0]):\n",
    "#    if (preds[i] == val_half_Y[i])"
   ]
  },
  {
   "cell_type": "code",
   "execution_count": 103,
   "metadata": {},
   "outputs": [
    {
     "data": {
      "text/plain": [
       "LogisticRegression(C=1.0, class_weight=None, dual=False, fit_intercept=True,\n",
       "          intercept_scaling=1, max_iter=100, multi_class='warn',\n",
       "          n_jobs=None, penalty='l2', random_state=None, solver='warn',\n",
       "          tol=0.0001, verbose=0, warm_start=False)"
      ]
     },
     "execution_count": 103,
     "metadata": {},
     "output_type": "execute_result"
    }
   ],
   "source": [
    "lr_1 = linear_model.LogisticRegression()\n",
    "train_half_X_1 = features\n",
    "train_half_Y_1 = labels\n",
    "lr_1.fit(train_half_X, train_half_Y)"
   ]
  },
  {
   "cell_type": "code",
   "execution_count": 104,
   "metadata": {},
   "outputs": [
    {
     "name": "stdout",
     "output_type": "stream",
     "text": [
      "[1.73134639]\n",
      "[[ 1.49826151e+00  7.21679025e-01 -4.88594137e-01 -2.34808989e+00\n",
      "  -4.53401632e-02 -4.22526863e-01  5.78412507e-02  1.38810597e-03\n",
      "   2.27571300e-01  9.77941197e-01  5.25833898e-01]]\n"
     ]
    }
   ],
   "source": [
    "#print 'model: logit(p(yc=1|x)) = %f + %f * BMI' % (lr_1.intercept_, lr_1.coef_)\n",
    "print(lr_1.intercept_)\n",
    "print(lr_1.coef_)"
   ]
  },
  {
   "cell_type": "code",
   "execution_count": 105,
   "metadata": {},
   "outputs": [
    {
     "name": "stdout",
     "output_type": "stream",
     "text": [
      "<type 'str'>\n"
     ]
    }
   ],
   "source": [
    "with open('train_titanic.csv', 'r') as fr:\n",
    "    freader = csv.reader(fr)\n",
    "    cnt = 0\n",
    "    for eachLine in freader:\n",
    "        cnt += 1\n",
    "        if (cnt > 1):\n",
    "            print(type(eachLine[9]))\n",
    "            break"
   ]
  },
  {
   "cell_type": "code",
   "execution_count": 115,
   "metadata": {},
   "outputs": [
    {
     "name": "stdout",
     "output_type": "stream",
     "text": [
      "(418, 11)\n"
     ]
    }
   ],
   "source": [
    "with open('test_titanic.csv', 'r') as fr:\n",
    "    freader = csv.reader(fr)\n",
    "    cnt = 0\n",
    "    labels = []\n",
    "    features = []\n",
    "    for eachLine in freader:\n",
    "        cnt += 1\n",
    "        if (cnt > 1):\n",
    "            feature = np.zeros(shape=(11, ))\n",
    "            feature[int(eachLine[1])-1] = 1\n",
    "            feature[3] = int(eachLine[3] == 'male')\n",
    "            try:\n",
    "                feature[4] = float(eachLine[4])\n",
    "            except:\n",
    "                feature[4] = 30\n",
    "            feature[5] = int(eachLine[5])\n",
    "            feature[6] = int(eachLine[6])\n",
    "            try:\n",
    "                feature[7] = float(eachLine[8])\n",
    "            except:\n",
    "                feature[7] = 7.25\n",
    "            offset = 0\n",
    "            if (eachLine[10] == 'S'):\n",
    "                offset = 0\n",
    "            elif (eachLine[10] == 'C'):\n",
    "                offset = 1\n",
    "            else:\n",
    "                offset = 2\n",
    "            feature[8+offset] = 1\n",
    "            features.append(feature)\n",
    "            labels.append(int(eachLine[1]))\n",
    "\n",
    "    features = np.array(features, dtype = float)\n",
    "    print(features.shape)\n",
    "            \n",
    "        "
   ]
  },
  {
   "cell_type": "code",
   "execution_count": 116,
   "metadata": {},
   "outputs": [
    {
     "name": "stdout",
     "output_type": "stream",
     "text": [
      "(418,)\n",
      "accuracy on valition = 0.000\n"
     ]
    },
    {
     "name": "stderr",
     "output_type": "stream",
     "text": [
      "/Users/wangjialei/anaconda2/lib/python2.7/site-packages/ipykernel_launcher.py:5: DeprecationWarning: elementwise comparison failed; this will raise an error in the future.\n",
      "  \"\"\"\n"
     ]
    }
   ],
   "source": [
    "preds = lr_1.predict(features)\n",
    "print(preds.shape)\n"
   ]
  },
  {
   "cell_type": "code",
   "execution_count": 117,
   "metadata": {
    "scrolled": true
   },
   "outputs": [
    {
     "name": "stdout",
     "output_type": "stream",
     "text": [
      "[0 0 0 0 1 0 1 0 1 0 0 0 1 0 1 1 0 0 0 1 0 0 1 1 1 0 1 0 0 0 0 0 0 0 1 0 1\n",
      " 1 0 0 0 0 0 1 1 0 0 0 1 0 0 0 1 1 0 0 0 0 0 1 0 0 0 1 1 1 1 0 1 1 1 0 1 1\n",
      " 1 1 0 1 0 1 0 0 0 0 0 0 1 1 1 0 1 0 1 0 1 0 0 0 1 0 1 0 0 0 1 0 0 0 0 0 0\n",
      " 1 1 1 1 0 0 1 1 1 1 0 1 0 0 1 0 0 0 0 0 0 1 0 0 0 0 0 1 0 0 1 0 0 0 0 0 0\n",
      " 0 0 1 0 0 0 0 0 1 1 0 1 1 0 1 0 0 0 0 0 1 1 0 0 0 0 0 1 1 0 1 1 0 0 1 0 1\n",
      " 0 1 0 0 0 0 0 0 0 1 0 1 1 0 1 1 0 0 1 0 1 1 0 1 0 0 0 0 0 0 0 1 0 1 0 1 0\n",
      " 1 0 1 1 0 1 0 0 0 1 0 0 0 0 0 0 1 1 1 1 0 0 0 0 1 0 1 1 1 0 1 0 0 0 0 0 1\n",
      " 0 0 0 1 1 0 0 0 0 1 0 0 0 1 1 0 1 0 0 0 0 1 0 1 1 1 0 0 0 0 0 0 1 0 0 0 0\n",
      " 1 0 0 0 0 0 0 0 1 1 0 0 0 0 0 0 0 1 1 1 0 0 0 0 0 0 0 0 1 0 1 0 0 0 1 1 0\n",
      " 1 0 0 0 0 0 0 0 0 0 1 0 1 0 1 0 1 1 0 0 0 1 0 1 0 0 0 0 1 1 0 1 1 0 1 1 0\n",
      " 0 1 0 0 1 1 0 0 0 0 0 0 1 1 0 1 0 0 0 0 1 1 0 0 0 1 0 1 0 0 1 0 1 1 0 1 0\n",
      " 0 1 1 1 1 1 0 1 0 0 0]\n"
     ]
    }
   ],
   "source": [
    "print(preds)"
   ]
  },
  {
   "cell_type": "code",
   "execution_count": 127,
   "metadata": {},
   "outputs": [],
   "source": [
    "with open('eggs.csv', 'w') as csvfile:\n",
    "    Iwriter = csv.writer(csvfile)\n",
    "    Iwriter.writerow(['PassengerId'] + ['Survived'])\n",
    "    index = 892\n",
    "    for k in preds:                                   \n",
    "        Iwriter.writerow([index, k])\n",
    "        index = index + 1"
   ]
  },
  {
   "cell_type": "code",
   "execution_count": null,
   "metadata": {},
   "outputs": [],
   "source": []
  }
 ],
 "metadata": {
  "kernelspec": {
   "display_name": "Python 2",
   "language": "python",
   "name": "python2"
  },
  "language_info": {
   "codemirror_mode": {
    "name": "ipython",
    "version": 2
   },
   "file_extension": ".py",
   "mimetype": "text/x-python",
   "name": "python",
   "nbconvert_exporter": "python",
   "pygments_lexer": "ipython2",
   "version": "2.7.16"
  }
 },
 "nbformat": 4,
 "nbformat_minor": 2
}
